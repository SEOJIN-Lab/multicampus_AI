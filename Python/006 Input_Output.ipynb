{
  "nbformat": 4,
  "nbformat_minor": 0,
  "metadata": {
    "colab": {
      "name": "Untitled0.ipynb",
      "provenance": [],
      "toc_visible": true
    },
    "kernelspec": {
      "name": "python3",
      "display_name": "Python 3"
    },
    "language_info": {
      "name": "python"
    }
  },
  "cells": [
    {
      "cell_type": "markdown",
      "source": [
        "## 6.1 화면 출력"
      ],
      "metadata": {
        "id": "7kWu7Xz24BKZ"
      }
    },
    {
      "cell_type": "markdown",
      "source": [
        "### 6.1.1 기본 출력"
      ],
      "metadata": {
        "id": "HCIUyNXW4KXY"
      }
    },
    {
      "cell_type": "code",
      "source": [
        "print(\"Hello Python!!\")\n",
        "print(\"Best\", \"python\", \"book\")\n",
        "print(\"Best\", \"python\", \"book\", sep = \"-:*:-\")"
      ],
      "metadata": {
        "colab": {
          "base_uri": "https://localhost:8080/"
        },
        "id": "UhDnxAM54Mf0",
        "outputId": "8a0a4d55-a83f-4677-a0d7-3f3cc0e9b493"
      },
      "execution_count": 1,
      "outputs": [
        {
          "output_type": "stream",
          "name": "stdout",
          "text": [
            "Hello Python!!\n",
            "Best python book\n",
            "Best-:*:-python-:*:-book\n"
          ]
        }
      ]
    },
    {
      "cell_type": "code",
      "source": [
        "print(\"abcd\" + \"efg\")\n",
        "print(\"Best\", \"python\", \"book\" + \":\", \"This book\")"
      ],
      "metadata": {
        "colab": {
          "base_uri": "https://localhost:8080/"
        },
        "id": "6Z9wuGew4Trt",
        "outputId": "a535b06e-13b5-4b0f-c9bf-a639a7be1eeb"
      },
      "execution_count": 2,
      "outputs": [
        {
          "output_type": "stream",
          "name": "stdout",
          "text": [
            "abcdefg\n",
            "Best python book: This book\n"
          ]
        }
      ]
    },
    {
      "cell_type": "code",
      "source": [
        "x = 10\n",
        "print(x)"
      ],
      "metadata": {
        "colab": {
          "base_uri": "https://localhost:8080/"
        },
        "id": "DOmnnrr04ZRo",
        "outputId": "9a1fbad8-c0f8-40af-b951-6341e7660f04"
      },
      "execution_count": 3,
      "outputs": [
        {
          "output_type": "stream",
          "name": "stdout",
          "text": [
            "10\n"
          ]
        }
      ]
    },
    {
      "cell_type": "code",
      "source": [
        "name = \"James\"\n",
        "ID_num = 789\n",
        "print(\"Name:\", name + \",\", \"ID Number:\", ID_num )"
      ],
      "metadata": {
        "colab": {
          "base_uri": "https://localhost:8080/"
        },
        "id": "DA6GGv7k4bj3",
        "outputId": "878024f0-e83c-4a4a-9dcf-5984c5731e7c"
      },
      "execution_count": 4,
      "outputs": [
        {
          "output_type": "stream",
          "name": "stdout",
          "text": [
            "Name: James, ID Number: 789\n"
          ]
        }
      ]
    },
    {
      "cell_type": "code",
      "source": [
        "print(\"James is my friend.\\nHe is Korean.\")"
      ],
      "metadata": {
        "colab": {
          "base_uri": "https://localhost:8080/"
        },
        "id": "uCwmqjkz4bgp",
        "outputId": "04853754-5800-43cb-85ae-860ce86473ff"
      },
      "execution_count": 5,
      "outputs": [
        {
          "output_type": "stream",
          "name": "stdout",
          "text": [
            "James is my friend.\n",
            "He is Korean.\n"
          ]
        }
      ]
    },
    {
      "cell_type": "code",
      "source": [
        "print(\"James is my friend.\\n\\nHe is Korean.\")"
      ],
      "metadata": {
        "colab": {
          "base_uri": "https://localhost:8080/"
        },
        "id": "TT_zLaBO4bd8",
        "outputId": "aed244ea-0058-4d83-9035-663781c2216d"
      },
      "execution_count": 6,
      "outputs": [
        {
          "output_type": "stream",
          "name": "stdout",
          "text": [
            "James is my friend.\n",
            "\n",
            "He is Korean.\n"
          ]
        }
      ]
    },
    {
      "cell_type": "code",
      "source": [
        "print(\"Welcome to \")\n",
        "print(\"python!\")"
      ],
      "metadata": {
        "colab": {
          "base_uri": "https://localhost:8080/"
        },
        "id": "5f5dLgey4bbG",
        "outputId": "0c147a6f-3775-4cb0-d16b-fcc68d2749c7"
      },
      "execution_count": 7,
      "outputs": [
        {
          "output_type": "stream",
          "name": "stdout",
          "text": [
            "Welcome to \n",
            "python!\n"
          ]
        }
      ]
    },
    {
      "cell_type": "code",
      "source": [
        "print(\"Welcome to \", end=\"\")\n",
        "print(\"python!\")"
      ],
      "metadata": {
        "colab": {
          "base_uri": "https://localhost:8080/"
        },
        "id": "XYBUZn_w4bYc",
        "outputId": "01142751-6308-428f-b682-6be9da0bccec"
      },
      "execution_count": 8,
      "outputs": [
        {
          "output_type": "stream",
          "name": "stdout",
          "text": [
            "Welcome to python!\n"
          ]
        }
      ]
    },
    {
      "cell_type": "markdown",
      "source": [
        "### 6.1.2 형식 지정 출력"
      ],
      "metadata": {
        "id": "tHLhD8zi4tWe"
      }
    },
    {
      "cell_type": "markdown",
      "source": [
        "#### 6.1.2.1 나머지 연산자(%)를 이용한 형식 및 위치 지정"
      ],
      "metadata": {
        "id": "9v6_WCu_40Mz"
      }
    },
    {
      "cell_type": "code",
      "source": [
        "name = \"광재\"\n",
        "print(\"%s는 나의 친구입니다.\" % name)"
      ],
      "metadata": {
        "colab": {
          "base_uri": "https://localhost:8080/"
        },
        "id": "Reh5DbXq4bV0",
        "outputId": "28e38e7a-c4c1-482a-b432-54d0c352616f"
      },
      "execution_count": 9,
      "outputs": [
        {
          "output_type": "stream",
          "name": "stdout",
          "text": [
            "광재는 나의 친구입니다.\n"
          ]
        }
      ]
    },
    {
      "cell_type": "code",
      "source": [
        "r = 3                                  # 변수 r에 정수 데이터 할당\n",
        "PI = 3.14159265358979                  # 변수 PI에 실수 데이터 할당\n",
        "print(\"반지름: %d, 원주율: %f\" % (r, PI)) # 지정된 위치에 데이터 출력"
      ],
      "metadata": {
        "colab": {
          "base_uri": "https://localhost:8080/"
        },
        "id": "ybQzoAC14bSu",
        "outputId": "ab99260a-d5e5-4578-a4bc-4b46f31f3f17"
      },
      "execution_count": 10,
      "outputs": [
        {
          "output_type": "stream",
          "name": "stdout",
          "text": [
            "반지름: 3, 원주율: 3.141593\n"
          ]
        }
      ]
    },
    {
      "cell_type": "markdown",
      "source": [
        "#### 6.1.2.2 형식 지정 문자열에서 출력 위치 지정"
      ],
      "metadata": {
        "id": "BydhSwqG5Exx"
      }
    },
    {
      "cell_type": "code",
      "source": [
        "animal_0 = \"cat\"\n",
        "animal_1 = \"dog\"\n",
        "animal_2 = \"fox\"\n",
        "print(\"Animal: {0}\".format(animal_0))\n",
        "print(\"Animal: {0},{1},{2}\".format(animal_0, animal_1, animal_2))"
      ],
      "metadata": {
        "colab": {
          "base_uri": "https://localhost:8080/"
        },
        "id": "aoJM3Rj14bPp",
        "outputId": "854ebb8f-ded6-40b0-bc54-5b6226edf227"
      },
      "execution_count": 11,
      "outputs": [
        {
          "output_type": "stream",
          "name": "stdout",
          "text": [
            "Animal: cat\n",
            "Animal: cat,dog,fox\n"
          ]
        }
      ]
    },
    {
      "cell_type": "code",
      "source": [
        "print(\"Animal: {1},{2},{0}\".format(animal_0, animal_1, animal_2))"
      ],
      "metadata": {
        "colab": {
          "base_uri": "https://localhost:8080/"
        },
        "id": "gC3tEi_d5DI0",
        "outputId": "0405d1ec-f7e2-4033-fea8-23b844914aa3"
      },
      "execution_count": 12,
      "outputs": [
        {
          "output_type": "stream",
          "name": "stdout",
          "text": [
            "Animal: dog,fox,cat\n"
          ]
        }
      ]
    },
    {
      "cell_type": "code",
      "source": [
        "print(\"Animal: {0},{2}\".format(animal_0, animal_1, animal_2))"
      ],
      "metadata": {
        "colab": {
          "base_uri": "https://localhost:8080/"
        },
        "id": "T8ugGgwx5DFv",
        "outputId": "b6c62a06-d7bf-4588-8e9f-a8c61498abef"
      },
      "execution_count": 13,
      "outputs": [
        {
          "output_type": "stream",
          "name": "stdout",
          "text": [
            "Animal: cat,fox\n"
          ]
        }
      ]
    },
    {
      "cell_type": "code",
      "source": [
        "print(\"Animal: {}, {}, {}\".format(animal_0, animal_1, animal_2))"
      ],
      "metadata": {
        "colab": {
          "base_uri": "https://localhost:8080/"
        },
        "id": "8Ak6Bgu25DDL",
        "outputId": "97595470-ea86-4c2d-e8cb-b4288ca8e70c"
      },
      "execution_count": 14,
      "outputs": [
        {
          "output_type": "stream",
          "name": "stdout",
          "text": [
            "Animal: cat, dog, fox\n"
          ]
        }
      ]
    },
    {
      "cell_type": "code",
      "source": [
        "name = \"Tomas\"\n",
        "age = 10\n",
        "a = 0.1234567890123456789\n",
        "fmt_string = \"String: {0}  Integer Number: {1}  Floating Number: {2}\"\n",
        "print(fmt_string.format(name, age, a))"
      ],
      "metadata": {
        "colab": {
          "base_uri": "https://localhost:8080/"
        },
        "id": "xg6QSk4t5DAX",
        "outputId": "9210e037-ded3-4e22-d068-76304d4f9aaf"
      },
      "execution_count": 19,
      "outputs": [
        {
          "output_type": "stream",
          "name": "stdout",
          "text": [
            "String: Tomas  Integer Number: 10  Floating Number: 0.12345678901234568\n"
          ]
        }
      ]
    },
    {
      "cell_type": "markdown",
      "source": [
        "#### 6.1.2.3 형식 지정 문자열에서 숫자 출력 형식 지정"
      ],
      "metadata": {
        "id": "dlTE6vbL5jd9"
      }
    },
    {
      "cell_type": "code",
      "source": [
        "a = 0.1234567890123456789\n",
        "print(\"{0:.2f}, {0:.5f}\".format(a))"
      ],
      "metadata": {
        "colab": {
          "base_uri": "https://localhost:8080/"
        },
        "id": "TBIKIDfw5C9P",
        "outputId": "d0c6eae9-d64b-4e47-c462-0c4232f26295"
      },
      "execution_count": 20,
      "outputs": [
        {
          "output_type": "stream",
          "name": "stdout",
          "text": [
            "0.12, 0.12346\n"
          ]
        }
      ]
    },
    {
      "cell_type": "markdown",
      "source": [
        "## 6.2 키보드 입력"
      ],
      "metadata": {
        "id": "xdbBbGCn5pWS"
      }
    },
    {
      "cell_type": "code",
      "source": [
        "yourName = input(\"당신의 이름은? \") \n",
        "print(\"당신은 {}이군요.\".format(yourName))"
      ],
      "metadata": {
        "colab": {
          "base_uri": "https://localhost:8080/"
        },
        "id": "92mRPwLx5C6S",
        "outputId": "42d62d5e-dbfa-49ce-f65f-1257024465c7"
      },
      "execution_count": 21,
      "outputs": [
        {
          "output_type": "stream",
          "name": "stdout",
          "text": [
            "당신의 이름은? seojin\n",
            "당신은 seojin이군요.\n"
          ]
        }
      ]
    },
    {
      "cell_type": "code",
      "source": [
        "num = input(\"숫자를 입력하세요: \")\n",
        "print(\"당신이 입력한 숫자는 {}입니다.\".format(num))"
      ],
      "metadata": {
        "colab": {
          "base_uri": "https://localhost:8080/"
        },
        "id": "KUnEFY7N5C3W",
        "outputId": "032d456c-fb3b-4ed6-c1aa-adb6bb23576d"
      },
      "execution_count": 22,
      "outputs": [
        {
          "output_type": "stream",
          "name": "stdout",
          "text": [
            "숫자를 입력하세요: 13\n",
            "당신이 입력한 숫자는 13입니다.\n"
          ]
        }
      ]
    },
    {
      "cell_type": "code",
      "source": [
        "a = input(\"정사각형 한 변의 길이는?: \") \n",
        "area = int(a) ** 2\n",
        "print(\"정사각형의 넓이: {}\".format(area))"
      ],
      "metadata": {
        "colab": {
          "base_uri": "https://localhost:8080/"
        },
        "id": "d8lj0qrn5C0e",
        "outputId": "67da997d-b0cd-46cf-9847-d5d95727383f"
      },
      "execution_count": 23,
      "outputs": [
        {
          "output_type": "stream",
          "name": "stdout",
          "text": [
            "정사각형 한 변의 길이는?: 5\n",
            "정사각형의 넓이: 25\n"
          ]
        }
      ]
    },
    {
      "cell_type": "code",
      "source": [
        "b = input(\"정사각형 한 변의 길이는?:\") \n",
        "area = float(b) ** 2\n",
        "print(\"정사각형의 넓이: {}\".format(area))"
      ],
      "metadata": {
        "colab": {
          "base_uri": "https://localhost:8080/"
        },
        "id": "_5qwx3ss5Cxo",
        "outputId": "949e61f1-1d18-48f2-86f2-84760e50a62f"
      },
      "execution_count": 24,
      "outputs": [
        {
          "output_type": "stream",
          "name": "stdout",
          "text": [
            "정사각형 한 변의 길이는?:10\n",
            "정사각형의 넓이: 100.0\n"
          ]
        }
      ]
    },
    {
      "cell_type": "code",
      "source": [
        "c = input(\"정사각형 한 변의 길이는?: \") \n",
        "area = float(c) ** 2\n",
        "print(\"정사각형의 넓이: {}\".format(area)) "
      ],
      "metadata": {
        "colab": {
          "base_uri": "https://localhost:8080/"
        },
        "id": "h5enMMz85Cuz",
        "outputId": "4f164e0b-7bf8-4443-f3b9-c837d4499427"
      },
      "execution_count": 25,
      "outputs": [
        {
          "output_type": "stream",
          "name": "stdout",
          "text": [
            "정사각형 한 변의 길이는?: 25\n",
            "정사각형의 넓이: 625.0\n"
          ]
        }
      ]
    },
    {
      "cell_type": "markdown",
      "source": [
        "## 6.3 파일을 읽고 쓰기"
      ],
      "metadata": {
        "id": "q6dAQubf6HsT"
      }
    },
    {
      "cell_type": "markdown",
      "source": [
        "### 6.3.1 파일 열기\n",
        "\n",
        "\n",
        "*   파일에서 데이터를 읽거나 파일에 데이터를 쓰려면,<br> 우선 파이썬 내장 함수인 open()을 이용해 파일을 열어야 함\n",
        "*   f = open ('filename', 'mode')\n",
        "*   open() 함수는 file_name과 mode를 입력 인자로 받아서 파일을 열고<br> 파일 객체인 f를 반환 반환된 파일 객체를 이용해 파일을 읽고 쓰고 닫음\n",
        "* 두 번째 인자인 모드(mode)\n",
        "\n",
        "\n",
        "\n"
      ],
      "metadata": {
        "id": "NcyC5FxL6LEk"
      }
    },
    {
      "cell_type": "markdown",
      "source": [
        "### 6.3.2 파일 쓰기"
      ],
      "metadata": {
        "id": "iRb1Rchi6xi3"
      }
    },
    {
      "cell_type": "code",
      "source": [
        "#cd C:\\myPyCode"
      ],
      "metadata": {
        "id": "B1CF7vVW5Crk"
      },
      "execution_count": 26,
      "outputs": []
    },
    {
      "cell_type": "code",
      "source": [
        "f = open('myFile.txt', 'w') # (1)'myFile.txt' 파일 쓰기 모드\n",
        "f.write('This is my first file.') # (2) 연 파일에 문자열 쓰기 \n",
        "f.close()                         # (3) 파일 닫기"
      ],
      "metadata": {
        "id": "YbwXC7QK5Cox"
      },
      "execution_count": 27,
      "outputs": []
    },
    {
      "cell_type": "code",
      "source": [
        "!cat myFile.txt"
      ],
      "metadata": {
        "colab": {
          "base_uri": "https://localhost:8080/"
        },
        "id": "n6u9jrA35CmN",
        "outputId": "8e9a09bb-a2d4-4976-cb79-77e49f3dc6e9"
      },
      "execution_count": 28,
      "outputs": [
        {
          "output_type": "stream",
          "name": "stdout",
          "text": [
            "This is my first file."
          ]
        }
      ]
    },
    {
      "cell_type": "markdown",
      "source": [
        "### 6.3.3 파일 읽기"
      ],
      "metadata": {
        "id": "YEu6hVGA7C1h"
      }
    },
    {
      "cell_type": "code",
      "source": [
        "f = open('myFile.txt', 'r') # (1)'myFile.txt' 파일 읽기 모드로 열기\n",
        "file_text = f.read()        # (2) 파일 내용 읽은 후에 변수에 저장\n",
        "f.close()                    # (3) 파일 닫기\n",
        "print(file_text)            # 변수에 저장된 내용 출력"
      ],
      "metadata": {
        "colab": {
          "base_uri": "https://localhost:8080/"
        },
        "id": "zrnFaFRq5CjV",
        "outputId": "35533658-aad2-4981-dd68-6ec0569f48ec"
      },
      "execution_count": 29,
      "outputs": [
        {
          "output_type": "stream",
          "name": "stdout",
          "text": [
            "This is my first file.\n"
          ]
        }
      ]
    },
    {
      "cell_type": "markdown",
      "source": [
        "## 6.4 반복문을 이용해 파일 읽고 쓰기"
      ],
      "metadata": {
        "id": "qyt_MTDp7Qa-"
      }
    },
    {
      "cell_type": "markdown",
      "source": [
        "### 6.4.1 파일에 문자열 한 줄씩 쓰기"
      ],
      "metadata": {
        "id": "hCQAA_wu7V1n"
      }
    },
    {
      "cell_type": "code",
      "source": [
        "f = open('two_times_table.txt','w') # (1)파일을 쓰기 모드로 열기 \n",
        "for num in range(1,6):              # (2) for문: num이 1~5까지 반복\n",
        "    format_string = \"2 x {0} = {1}\\n\".format(num,2*num) # 저장할 문자\n",
        "    f.write(format_string)          # (3) 파일에 문자열 저장 \n",
        "f.close()                           # (4) 파일 닫기"
      ],
      "metadata": {
        "id": "aryS67nb5Cgg"
      },
      "execution_count": 30,
      "outputs": []
    },
    {
      "cell_type": "code",
      "source": [
        "!cat two_times_table.txt"
      ],
      "metadata": {
        "colab": {
          "base_uri": "https://localhost:8080/"
        },
        "id": "iPJOGjlm7QK_",
        "outputId": "34f40c3f-5b49-4601-dfba-19379bd557a4"
      },
      "execution_count": 31,
      "outputs": [
        {
          "output_type": "stream",
          "name": "stdout",
          "text": [
            "2 x 1 = 2\n",
            "2 x 2 = 4\n",
            "2 x 3 = 6\n",
            "2 x 4 = 8\n",
            "2 x 5 = 10\n"
          ]
        }
      ]
    },
    {
      "cell_type": "markdown",
      "source": [
        "### 6.4.2 파일에서 문자열 한 줄씩 읽기"
      ],
      "metadata": {
        "id": "PvJgFUYc7oAl"
      }
    },
    {
      "cell_type": "markdown",
      "source": [
        "#### 6.4.2.1 readline()"
      ],
      "metadata": {
        "id": "SocGcdAb7rCe"
      }
    },
    {
      "cell_type": "code",
      "source": [
        "f = open(\"two_times_table.txt\") # 파일을 읽기 모드로 열기\n",
        "\n",
        "line1 = f.readline() # 한 줄씩 문자열을 읽기\n",
        "line2 = f.readline() \n",
        "f.close()            # 파일 닫기\n",
        "print(line1, end=\"\") # 한 줄씩 문자열 출력(줄 바꿈 안 함)\n",
        "print(line2, end=\"\")"
      ],
      "metadata": {
        "colab": {
          "base_uri": "https://localhost:8080/"
        },
        "id": "Y61ln3I77QIZ",
        "outputId": "bad55fcc-c4fb-47f2-efd2-6ff6808c1f14"
      },
      "execution_count": 32,
      "outputs": [
        {
          "output_type": "stream",
          "name": "stdout",
          "text": [
            "2 x 1 = 2\n",
            "2 x 2 = 4\n"
          ]
        }
      ]
    },
    {
      "cell_type": "code",
      "source": [
        "f = open(\"two_times_table.txt\") # 파일을 읽기 모드로 열기\n",
        "line = f.readline()             # 문자열 한 줄 읽기\n",
        "while line:                     # line이 공백인지 검사해서 반복 여부        \n",
        "    print(line, end = \"\")       # 문자열 한 줄 출력(줄 바꿈 안 함)\n",
        "    line = f.readline()         # 문자열 한 줄 읽기\n",
        "f.close() # 파일 닫기"
      ],
      "metadata": {
        "colab": {
          "base_uri": "https://localhost:8080/"
        },
        "id": "0L6jTrFU7QFz",
        "outputId": "1cad9773-4f1c-4105-af17-b83e95d723b5"
      },
      "execution_count": 35,
      "outputs": [
        {
          "output_type": "stream",
          "name": "stdout",
          "text": [
            "2 x 1 = 2\n",
            "2 x 2 = 4\n",
            "2 x 3 = 6\n",
            "2 x 4 = 8\n",
            "2 x 5 = 10\n"
          ]
        }
      ]
    },
    {
      "cell_type": "markdown",
      "source": [
        "#### 6.4.2.2 readlines()"
      ],
      "metadata": {
        "id": "nQxZJeKT8V-1"
      }
    },
    {
      "cell_type": "code",
      "source": [
        "f = open(\"two_times_table.txt\") # (1) 파일을 읽기 모드로 열기\n",
        "lines = f.readlines() # (2) 파일 전체 읽기(리스트로 반환)\n",
        "f.close() # (3) 파일 닫기\n",
        "\n",
        "print(lines) # 리스트 변수 내용 출력"
      ],
      "metadata": {
        "colab": {
          "base_uri": "https://localhost:8080/"
        },
        "id": "byGksK9J7QCu",
        "outputId": "688e5e6a-98c9-4a62-f798-2d2aa8fa81f0"
      },
      "execution_count": 36,
      "outputs": [
        {
          "output_type": "stream",
          "name": "stdout",
          "text": [
            "['2 x 1 = 2\\n', '2 x 2 = 4\\n', '2 x 3 = 6\\n', '2 x 4 = 8\\n', '2 x 5 = 10\\n']\n"
          ]
        }
      ]
    },
    {
      "cell_type": "code",
      "source": [
        "f = open(\"two_times_table.txt\") # 파일을 읽기 모드로 열기\n",
        "lines = f.readlines() # 파일 전체 읽기(리스트로 반환)\n",
        "f.close() # 파일 닫기\n",
        "for line in lines: # 리스트를 <반복 범위>로 지정\n",
        "    print(line, end=\"\") # 리스트 항목을 출력(줄 바꿈 안 함)"
      ],
      "metadata": {
        "colab": {
          "base_uri": "https://localhost:8080/"
        },
        "id": "Tyzp-yW47QAE",
        "outputId": "e769b7e7-a07d-414a-9955-2f106abde058"
      },
      "execution_count": 37,
      "outputs": [
        {
          "output_type": "stream",
          "name": "stdout",
          "text": [
            "2 x 1 = 2\n",
            "2 x 2 = 4\n",
            "2 x 3 = 6\n",
            "2 x 4 = 8\n",
            "2 x 5 = 10\n"
          ]
        }
      ]
    },
    {
      "cell_type": "code",
      "source": [
        "f = open(\"two_times_table.txt\") # 파일을 읽기 모드로 열기\n",
        "for line in f.readlines():      # 파일 전체를 읽고, 리스트 항목을 lin\n",
        "    print(line, end=\"\")         # 리스트 항목을 출력(줄 바꿈 안 함) \n",
        "f.close()"
      ],
      "metadata": {
        "colab": {
          "base_uri": "https://localhost:8080/"
        },
        "id": "5GOBR1ZA7P8y",
        "outputId": "206518dd-75f9-47cb-927d-d357e2f51fb3"
      },
      "execution_count": 38,
      "outputs": [
        {
          "output_type": "stream",
          "name": "stdout",
          "text": [
            "2 x 1 = 2\n",
            "2 x 2 = 4\n",
            "2 x 3 = 6\n",
            "2 x 4 = 8\n",
            "2 x 5 = 10\n"
          ]
        }
      ]
    },
    {
      "cell_type": "code",
      "source": [
        "f = open(\"two_times_table.txt\") # 파일을 읽기 모드로 열기\n",
        "for line in f:                  # 파일 전체를 읽고, 리스트 항목을 line\n",
        "    print(line, end=\"\")         # line의 내용 출력(줄 바꿈 안 함)\n",
        "f.close() # 파일 닫기"
      ],
      "metadata": {
        "colab": {
          "base_uri": "https://localhost:8080/"
        },
        "id": "--0J76kX7P6L",
        "outputId": "44336c36-da7b-420f-cf4f-32cadc68ee43"
      },
      "execution_count": 39,
      "outputs": [
        {
          "output_type": "stream",
          "name": "stdout",
          "text": [
            "2 x 1 = 2\n",
            "2 x 2 = 4\n",
            "2 x 3 = 6\n",
            "2 x 4 = 8\n",
            "2 x 5 = 10\n"
          ]
        }
      ]
    },
    {
      "cell_type": "markdown",
      "source": [
        "## 6.5 with 문을 활용해 파일 읽고 쓰기"
      ],
      "metadata": {
        "id": "Q3OKGjg19Cx5"
      }
    },
    {
      "cell_type": "markdown",
      "source": [
        "### 6.5.1 with 문의 구조"
      ],
      "metadata": {
        "id": "dGOm273e9Kmm"
      }
    },
    {
      "cell_type": "code",
      "source": [
        "f = open('myTextFile.txt', 'w') # (1) 파일 열기 \n",
        "f.write('File write/read test.') # (2) 파일 쓰기 \n",
        "f.close() # (3) 파일 닫기"
      ],
      "metadata": {
        "id": "A4H7qzQM7P3H"
      },
      "execution_count": 40,
      "outputs": []
    },
    {
      "cell_type": "code",
      "source": [
        "f = open('myTextFile.txt', 'r') # (1) 파일 열기 \n",
        "test = f.read() # (2) 파일 읽기 \n",
        "f.close() # (3) 파일 닫기\n",
        "print(test)"
      ],
      "metadata": {
        "colab": {
          "base_uri": "https://localhost:8080/"
        },
        "id": "0eD0ZdtQ9GHt",
        "outputId": "691f93a3-30d3-4fe6-dd04-acd30b4c036d"
      },
      "execution_count": 41,
      "outputs": [
        {
          "output_type": "stream",
          "name": "stdout",
          "text": [
            "File write/read test.\n"
          ]
        }
      ]
    },
    {
      "cell_type": "markdown",
      "source": [
        "### 6.5.2 with문의 활용"
      ],
      "metadata": {
        "id": "sYzpogI39aFE"
      }
    },
    {
      "cell_type": "code",
      "source": [
        "with open('myTextFile2.txt', 'w') as f: # (1) 파일 열기 \n",
        "    f.write('File read/write test2: line1\\n') # (2) 파일 쓰기 \n",
        "    f.write('File read/write test2: line2\\n')\n",
        "    f.write('File read/write test2: line3\\n')"
      ],
      "metadata": {
        "id": "GTkZvXQS7P0b"
      },
      "execution_count": 42,
      "outputs": []
    },
    {
      "cell_type": "code",
      "source": [
        "with open('myTextFile2.txt') as f: # (1) 파일 열기 \n",
        "    file_string = f.read() # (2) 파일 읽기 \n",
        "    print(file_string)"
      ],
      "metadata": {
        "colab": {
          "base_uri": "https://localhost:8080/"
        },
        "id": "lcATR72d9HHb",
        "outputId": "65390d9c-9cdc-44c1-884c-b4024c507b07"
      },
      "execution_count": 43,
      "outputs": [
        {
          "output_type": "stream",
          "name": "stdout",
          "text": [
            "File read/write test2: line1\n",
            "File read/write test2: line2\n",
            "File read/write test2: line3\n",
            "\n"
          ]
        }
      ]
    },
    {
      "cell_type": "code",
      "source": [
        "with open('myTextFile3.txt', 'w') as f: # 파일을 쓰기 모드로 열기 \n",
        "    for num in range(1,6): # for문에서 num이 1~5까지 반복\n",
        "        format_string = \"3 x {0} = {1}\\n\".format(num,3*num) # 문자열 \n",
        "        f.write(format_string) # 파일에 문자열 쓰기\n",
        " "
      ],
      "metadata": {
        "id": "hgN195049HC_"
      },
      "execution_count": 44,
      "outputs": []
    },
    {
      "cell_type": "code",
      "source": [
        "with open('myTextFile3.txt', 'r') as f: # 파일을 읽기 모드로 열기 \n",
        "    for line in f: # 파일 전체를 읽고 리스트 항목을 line에\n",
        "        print(line, end=\"\") # line에 할당된 문자열 출력(줄 바꿈 안함)"
      ],
      "metadata": {
        "colab": {
          "base_uri": "https://localhost:8080/"
        },
        "id": "cRXaoK-e9GvA",
        "outputId": "f1820755-40b5-484e-a918-ce2ad1b24a41"
      },
      "execution_count": 45,
      "outputs": [
        {
          "output_type": "stream",
          "name": "stdout",
          "text": [
            "3 x 1 = 3\n",
            "3 x 2 = 6\n",
            "3 x 3 = 9\n",
            "3 x 4 = 12\n",
            "3 x 5 = 15\n"
          ]
        }
      ]
    }
  ]
}