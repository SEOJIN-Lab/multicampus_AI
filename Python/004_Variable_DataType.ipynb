{
  "nbformat": 4,
  "nbformat_minor": 0,
  "metadata": {
    "colab": {
      "name": "004 Variable_DataType.ipynb",
      "provenance": [],
      "toc_visible": true
    },
    "kernelspec": {
      "name": "python3",
      "display_name": "Python 3"
    },
    "language_info": {
      "name": "python"
    }
  },
  "cells": [
    {
      "cell_type": "markdown",
      "source": [
        "## 4.1 변수"
      ],
      "metadata": {
        "id": "zEE2NpUIj-0f"
      }
    },
    {
      "cell_type": "code",
      "execution_count": 1,
      "metadata": {
        "colab": {
          "base_uri": "https://localhost:8080/"
        },
        "id": "Y7zgOB2Ljv__",
        "outputId": "e2516cb7-f58e-417f-9538-40b97fce7dc1"
      },
      "outputs": [
        {
          "output_type": "execute_result",
          "data": {
            "text/plain": [
              "6170.0"
            ]
          },
          "metadata": {},
          "execution_count": 1
        }
      ],
      "source": [
        "12340 * 1/2"
      ]
    },
    {
      "cell_type": "code",
      "source": [
        "12340 * 1/4"
      ],
      "metadata": {
        "colab": {
          "base_uri": "https://localhost:8080/"
        },
        "id": "oevi1GsSkKFU",
        "outputId": "a09800f9-7c6a-467d-f0f4-6858f94f15fc"
      },
      "execution_count": 2,
      "outputs": [
        {
          "output_type": "execute_result",
          "data": {
            "text/plain": [
              "3085.0"
            ]
          },
          "metadata": {},
          "execution_count": 2
        }
      ]
    },
    {
      "cell_type": "code",
      "source": [
        "abc = 12340\n",
        "print(abc)"
      ],
      "metadata": {
        "colab": {
          "base_uri": "https://localhost:8080/"
        },
        "id": "geBgAAwvkKB4",
        "outputId": "ac4b8125-3f91-4355-c375-93627a203921"
      },
      "execution_count": 3,
      "outputs": [
        {
          "output_type": "stream",
          "name": "stdout",
          "text": [
            "12340\n"
          ]
        }
      ]
    },
    {
      "cell_type": "code",
      "source": [
        "abc"
      ],
      "metadata": {
        "colab": {
          "base_uri": "https://localhost:8080/"
        },
        "id": "w_xMPC3DkJ-Z",
        "outputId": "9d040bc9-577f-4c64-f83d-1d6063f368e5"
      },
      "execution_count": 4,
      "outputs": [
        {
          "output_type": "execute_result",
          "data": {
            "text/plain": [
              "12340"
            ]
          },
          "metadata": {},
          "execution_count": 4
        }
      ]
    },
    {
      "cell_type": "code",
      "source": [
        "print(abc * 1/2)\n",
        "print(abc * 1/4)\n",
        "print(abc * 1/5)"
      ],
      "metadata": {
        "colab": {
          "base_uri": "https://localhost:8080/"
        },
        "id": "tzn1S5tpkJ7A",
        "outputId": "31dd35f1-2b17-4d5d-8afe-ce0f65266880"
      },
      "execution_count": 5,
      "outputs": [
        {
          "output_type": "stream",
          "name": "stdout",
          "text": [
            "6170.0\n",
            "3085.0\n",
            "2468.0\n"
          ]
        }
      ]
    },
    {
      "cell_type": "markdown",
      "source": [
        "## 4.2 문자열"
      ],
      "metadata": {
        "id": "JOHRrdHfkWId"
      }
    },
    {
      "cell_type": "markdown",
      "source": [
        "### 4.2.1 문자열 만들기"
      ],
      "metadata": {
        "id": "L985d8pbkcb0"
      }
    },
    {
      "cell_type": "code",
      "source": [
        "print(\"String Test\")\n",
        "print('String Test')"
      ],
      "metadata": {
        "colab": {
          "base_uri": "https://localhost:8080/"
        },
        "id": "We9HX3IUkJ3y",
        "outputId": "820a094d-e154-43a8-dcaa-d4b522f9f5ff"
      },
      "execution_count": 6,
      "outputs": [
        {
          "output_type": "stream",
          "name": "stdout",
          "text": [
            "String Test\n",
            "String Test\n"
          ]
        }
      ]
    },
    {
      "cell_type": "code",
      "source": [
        "string1 = \"String Test 1\"\n",
        "string2 = 'String Test 2'\n",
        "print(string1)\n",
        "print(string2)"
      ],
      "metadata": {
        "colab": {
          "base_uri": "https://localhost:8080/"
        },
        "id": "dIEX18Y_kJ03",
        "outputId": "c82102af-6015-4455-cff3-1ce58d5467b9"
      },
      "execution_count": 7,
      "outputs": [
        {
          "output_type": "stream",
          "name": "stdout",
          "text": [
            "String Test 1\n",
            "String Test 2\n"
          ]
        }
      ]
    },
    {
      "cell_type": "code",
      "source": [
        "type(string1)"
      ],
      "metadata": {
        "colab": {
          "base_uri": "https://localhost:8080/"
        },
        "id": "DmiwPeLNkJx3",
        "outputId": "a09e0d04-19d8-48d5-cdaf-d5577f5356e5"
      },
      "execution_count": 8,
      "outputs": [
        {
          "output_type": "execute_result",
          "data": {
            "text/plain": [
              "str"
            ]
          },
          "metadata": {},
          "execution_count": 8
        }
      ]
    },
    {
      "cell_type": "code",
      "source": [
        "type(string2)"
      ],
      "metadata": {
        "colab": {
          "base_uri": "https://localhost:8080/"
        },
        "id": "j9fspSqekJu5",
        "outputId": "2dee8bf4-1464-49b9-fde9-b688f88d2055"
      },
      "execution_count": 9,
      "outputs": [
        {
          "output_type": "execute_result",
          "data": {
            "text/plain": [
              "str"
            ]
          },
          "metadata": {},
          "execution_count": 9
        }
      ]
    },
    {
      "cell_type": "code",
      "source": [
        "string3 = 'This is a \"double\" quotation test'\n",
        "string4 = \"This is a 'single' quotation test\"\n",
        "print(string3)\n",
        "print(string4)"
      ],
      "metadata": {
        "colab": {
          "base_uri": "https://localhost:8080/"
        },
        "id": "P8o6cESukJr8",
        "outputId": "33f6dace-ffa7-47cb-822b-9661ba9092e5"
      },
      "execution_count": 10,
      "outputs": [
        {
          "output_type": "stream",
          "name": "stdout",
          "text": [
            "This is a \"double\" quotation test\n",
            "This is a 'single' quotation test\n"
          ]
        }
      ]
    },
    {
      "cell_type": "code",
      "source": [
        "long_string1 = '''[삼중 작은따옴표를 사용한 예]\n",
        "파이썬에는 삼중 따옴표로 여러 행의 문자열을 입력할 수 있습니다. 큰따옴표(\")와 작은따옴표(')도 입력할 수 있습니다.'''\n",
        "long_string2 = \"\"\"[삼중 큰따옴표를 사용한 예]\n",
        "파이썬에는 삼중 따옴표로 여러 행의 문자열을 입력할 수 있습니다. 큰따옴표(\")와 작은따옴표(')도 입력할 수 있습니다.\"\"\"\n",
        "print(long_string1)\n",
        "print(long_string2)"
      ],
      "metadata": {
        "colab": {
          "base_uri": "https://localhost:8080/"
        },
        "id": "yCeTyq-ukJo5",
        "outputId": "385178ac-81cd-4c9c-c487-4176ae726381"
      },
      "execution_count": 11,
      "outputs": [
        {
          "output_type": "stream",
          "name": "stdout",
          "text": [
            "[삼중 작은따옴표를 사용한 예]\n",
            "파이썬에는 삼중 따옴표로 여러 행의 문자열을 입력할 수 있습니다. 큰따옴표(\")와 작은따옴표(')도 입력할 수 있습니다.\n",
            "[삼중 큰따옴표를 사용한 예]\n",
            "파이썬에는 삼중 따옴표로 여러 행의 문자열을 입력할 수 있습니다. 큰따옴표(\")와 작은따옴표(')도 입력할 수 있습니다.\n"
          ]
        }
      ]
    },
    {
      "cell_type": "markdown",
      "source": [
        "### 4.2.2 문자열 다루기"
      ],
      "metadata": {
        "id": "TBqDwuwEllWz"
      }
    },
    {
      "cell_type": "code",
      "source": [
        "a = 'Enjoy ' \n",
        "b = 'python!' \n",
        "c= a + b\n",
        "print(c)\n",
        "print(a*3)"
      ],
      "metadata": {
        "colab": {
          "base_uri": "https://localhost:8080/"
        },
        "id": "w8ov7VkukJlY",
        "outputId": "dccb4a80-4e7c-429a-b875-a9025912bab1"
      },
      "execution_count": 12,
      "outputs": [
        {
          "output_type": "stream",
          "name": "stdout",
          "text": [
            "Enjoy python!\n",
            "Enjoy Enjoy Enjoy \n"
          ]
        }
      ]
    },
    {
      "cell_type": "markdown",
      "source": [
        "## 4.3 리스트"
      ],
      "metadata": {
        "id": "I4BJhrSslYHP"
      }
    },
    {
      "cell_type": "markdown",
      "source": [
        "### 4.3.1 리스트 만들기"
      ],
      "metadata": {
        "id": "1HE86PKjl9i_"
      }
    },
    {
      "cell_type": "code",
      "source": [
        "# 1번 학생의 국어, 영어, 수학, 과학 점수가 각각 90,95,85,80 \n",
        "student1 = [90,95,85,80]\n",
        "student1"
      ],
      "metadata": {
        "colab": {
          "base_uri": "https://localhost:8080/"
        },
        "id": "I3KZuG3EkJcf",
        "outputId": "0b633ed4-9f74-4fc8-b140-5af1d3a85102"
      },
      "execution_count": 13,
      "outputs": [
        {
          "output_type": "execute_result",
          "data": {
            "text/plain": [
              "[90, 95, 85, 80]"
            ]
          },
          "metadata": {},
          "execution_count": 13
        }
      ]
    },
    {
      "cell_type": "code",
      "source": [
        "type(student1)"
      ],
      "metadata": {
        "colab": {
          "base_uri": "https://localhost:8080/"
        },
        "id": "rJf8oKoJkJPL",
        "outputId": "8d2de808-716e-4b1f-8537-8909de8507ce"
      },
      "execution_count": 14,
      "outputs": [
        {
          "output_type": "execute_result",
          "data": {
            "text/plain": [
              "list"
            ]
          },
          "metadata": {},
          "execution_count": 14
        }
      ]
    },
    {
      "cell_type": "code",
      "source": [
        "student1[0]"
      ],
      "metadata": {
        "colab": {
          "base_uri": "https://localhost:8080/"
        },
        "id": "c5D8Cc-umFk3",
        "outputId": "b90a2980-a149-4853-86ed-847dcc9e1455"
      },
      "execution_count": 15,
      "outputs": [
        {
          "output_type": "execute_result",
          "data": {
            "text/plain": [
              "90"
            ]
          },
          "metadata": {},
          "execution_count": 15
        }
      ]
    },
    {
      "cell_type": "code",
      "source": [
        "student1[1]"
      ],
      "metadata": {
        "colab": {
          "base_uri": "https://localhost:8080/"
        },
        "id": "chD4-TepmFiJ",
        "outputId": "64da2744-97b4-40c1-ae22-1991a2c7678a"
      },
      "execution_count": 16,
      "outputs": [
        {
          "output_type": "execute_result",
          "data": {
            "text/plain": [
              "95"
            ]
          },
          "metadata": {},
          "execution_count": 16
        }
      ]
    },
    {
      "cell_type": "code",
      "source": [
        "student1[-1]"
      ],
      "metadata": {
        "colab": {
          "base_uri": "https://localhost:8080/"
        },
        "id": "tV2NwfnymFfe",
        "outputId": "90a0b5c9-ce68-4407-d432-3efe823360fa"
      },
      "execution_count": 17,
      "outputs": [
        {
          "output_type": "execute_result",
          "data": {
            "text/plain": [
              "80"
            ]
          },
          "metadata": {},
          "execution_count": 17
        }
      ]
    },
    {
      "cell_type": "code",
      "source": [
        "student1[1] = 100 # 두 번째 항목에 새로운 데이터 할당 \n",
        "student1"
      ],
      "metadata": {
        "colab": {
          "base_uri": "https://localhost:8080/"
        },
        "id": "7_MREpc_mFcW",
        "outputId": "071f180d-ea45-4661-ac7c-18a1412afc19"
      },
      "execution_count": 18,
      "outputs": [
        {
          "output_type": "execute_result",
          "data": {
            "text/plain": [
              "[90, 100, 85, 80]"
            ]
          },
          "metadata": {},
          "execution_count": 18
        }
      ]
    },
    {
      "cell_type": "code",
      "source": [
        "myFriends = ['James', 'Robert', 'Lisa', 'Mary']\n",
        "myFriends"
      ],
      "metadata": {
        "colab": {
          "base_uri": "https://localhost:8080/"
        },
        "id": "9n2XI-03mFZp",
        "outputId": "8c609686-8b4f-4cb1-a863-0bcc449a8827"
      },
      "execution_count": 19,
      "outputs": [
        {
          "output_type": "execute_result",
          "data": {
            "text/plain": [
              "['James', 'Robert', 'Lisa', 'Mary']"
            ]
          },
          "metadata": {},
          "execution_count": 19
        }
      ]
    },
    {
      "cell_type": "code",
      "source": [
        "myFriends[2]"
      ],
      "metadata": {
        "colab": {
          "base_uri": "https://localhost:8080/",
          "height": 35
        },
        "id": "Gpjj_T-5mFW9",
        "outputId": "0ef0b799-fc61-46bd-dad7-4288f1b747e6"
      },
      "execution_count": 20,
      "outputs": [
        {
          "output_type": "execute_result",
          "data": {
            "application/vnd.google.colaboratory.intrinsic+json": {
              "type": "string"
            },
            "text/plain": [
              "'Lisa'"
            ]
          },
          "metadata": {},
          "execution_count": 20
        }
      ]
    },
    {
      "cell_type": "code",
      "source": [
        "mixedList = [0, 2, 3.14, 'python', 'program', True, myFriends]\n",
        "mixedList"
      ],
      "metadata": {
        "colab": {
          "base_uri": "https://localhost:8080/"
        },
        "id": "bDPPM15rmVmi",
        "outputId": "cbbd157f-277e-47b6-d86e-d3f1d6016f16"
      },
      "execution_count": 21,
      "outputs": [
        {
          "output_type": "execute_result",
          "data": {
            "text/plain": [
              "[0, 2, 3.14, 'python', 'program', True, ['James', 'Robert', 'Lisa', 'Mary']]"
            ]
          },
          "metadata": {},
          "execution_count": 21
        }
      ]
    },
    {
      "cell_type": "markdown",
      "source": [
        "### 4.3.2 리스트 다루기"
      ],
      "metadata": {
        "id": "LAhVoRHpma6B"
      }
    },
    {
      "cell_type": "markdown",
      "source": [
        "#### 4.3.2.1 리스트 더하기와 곱하기"
      ],
      "metadata": {
        "id": "ln-kb0J2mojj"
      }
    },
    {
      "cell_type": "code",
      "source": [
        "list_con1= [1,2,3,4]\n",
        "list_con2 = [5,6,7,8]\n",
        "list_con = list_con1 + list_con2 # 리스트 연결\n",
        "print(list_con)"
      ],
      "metadata": {
        "colab": {
          "base_uri": "https://localhost:8080/"
        },
        "id": "-5xMWPW9mVj0",
        "outputId": "ba2c9e27-a827-4fa2-cf1b-f14c7a8b7bb9"
      },
      "execution_count": 22,
      "outputs": [
        {
          "output_type": "stream",
          "name": "stdout",
          "text": [
            "[1, 2, 3, 4, 5, 6, 7, 8]\n"
          ]
        }
      ]
    },
    {
      "cell_type": "code",
      "source": [
        "# 곱하기\n",
        "list_con1= [1,2,3,4]\n",
        "list_con = list_con1 * 3 # 리스트 반복\n",
        "print(list_con)"
      ],
      "metadata": {
        "colab": {
          "base_uri": "https://localhost:8080/"
        },
        "id": "nmgXw00zmVg_",
        "outputId": "09fee6dc-3a8e-475a-96a8-c44d065a846f"
      },
      "execution_count": 23,
      "outputs": [
        {
          "output_type": "stream",
          "name": "stdout",
          "text": [
            "[1, 2, 3, 4, 1, 2, 3, 4, 1, 2, 3, 4]\n"
          ]
        }
      ]
    },
    {
      "cell_type": "markdown",
      "source": [
        "#### 4.3.2.2 리스트 중 일부 항목 가져오기"
      ],
      "metadata": {
        "id": "v47CN89Am2P8"
      }
    },
    {
      "cell_type": "code",
      "source": [
        "list_data = [0, 1, 2, 3, 4, 5, 6, 7, 8, 9]\n",
        "print(list_data)\n",
        "print(list_data[0:3])\n",
        "print(list_data[4:8])\n",
        "print(list_data[:3])\n",
        "print(list_data[7:])\n",
        "print(list_data[::2])"
      ],
      "metadata": {
        "colab": {
          "base_uri": "https://localhost:8080/"
        },
        "id": "hZ7PA-uomVeS",
        "outputId": "810012f6-be34-4296-d664-f2346f5cc62a"
      },
      "execution_count": 24,
      "outputs": [
        {
          "output_type": "stream",
          "name": "stdout",
          "text": [
            "[0, 1, 2, 3, 4, 5, 6, 7, 8, 9]\n",
            "[0, 1, 2]\n",
            "[4, 5, 6, 7]\n",
            "[0, 1, 2]\n",
            "[7, 8, 9]\n",
            "[0, 2, 4, 6, 8]\n"
          ]
        }
      ]
    },
    {
      "cell_type": "markdown",
      "source": [
        "#### 4.3.2.3 리스트에서 항목 삭제하기"
      ],
      "metadata": {
        "id": "N3XtYTRrm_JR"
      }
    },
    {
      "cell_type": "code",
      "source": [
        "print(list_data)\n",
        "del list_data[6]\n",
        "print(list_data)"
      ],
      "metadata": {
        "colab": {
          "base_uri": "https://localhost:8080/"
        },
        "id": "QPYq-uJjmVbE",
        "outputId": "d0831201-bacf-411d-c125-fb895de1ab1d"
      },
      "execution_count": 25,
      "outputs": [
        {
          "output_type": "stream",
          "name": "stdout",
          "text": [
            "[0, 1, 2, 3, 4, 5, 6, 7, 8, 9]\n",
            "[0, 1, 2, 3, 4, 5, 7, 8, 9]\n"
          ]
        }
      ]
    },
    {
      "cell_type": "markdown",
      "source": [
        "#### 4.3.2.4 리스트에서 항목의 존재 여부 확인하기"
      ],
      "metadata": {
        "id": "fgGuoWzqnWfR"
      }
    },
    {
      "cell_type": "code",
      "source": [
        "list_data1 = [1, 2, 3, 4, 5]\n",
        "print(5 in list_data1)\n",
        "print(6 in list_data1)"
      ],
      "metadata": {
        "colab": {
          "base_uri": "https://localhost:8080/"
        },
        "id": "lLm3-UF2nYh5",
        "outputId": "c62a5d3b-1f78-4c2b-ae9e-6486d8131603"
      },
      "execution_count": 26,
      "outputs": [
        {
          "output_type": "stream",
          "name": "stdout",
          "text": [
            "True\n",
            "False\n"
          ]
        }
      ]
    },
    {
      "cell_type": "markdown",
      "source": [
        "#### 4.3.2.5 리스트 메서드 활용하기"
      ],
      "metadata": {
        "id": "qXzV2yZInKb-"
      }
    },
    {
      "cell_type": "code",
      "source": [
        "# append()는 리스트의 맨 끝에 새로운 항목을 추가\n",
        "\n",
        "myFriends = ['James', 'Robert', 'Lisa', 'Mary']\n",
        "print(myFriends)\n",
        "myFriends.append('Thomas')\n",
        "print(myFriends)"
      ],
      "metadata": {
        "colab": {
          "base_uri": "https://localhost:8080/"
        },
        "id": "RYXuS39nmVUQ",
        "outputId": "6e3160f8-76d0-4037-ede4-a2c0e55acd43"
      },
      "execution_count": 27,
      "outputs": [
        {
          "output_type": "stream",
          "name": "stdout",
          "text": [
            "['James', 'Robert', 'Lisa', 'Mary']\n",
            "['James', 'Robert', 'Lisa', 'Mary', 'Thomas']\n"
          ]
        }
      ]
    },
    {
      "cell_type": "code",
      "source": [
        "# insert()\n",
        "\n",
        "myFriends = ['James', 'Robert', 'Lisa', 'Mary']\n",
        "print(myFriends)\n",
        "myFriends.insert(1,'Paul')\n",
        "print(myFriends)"
      ],
      "metadata": {
        "colab": {
          "base_uri": "https://localhost:8080/"
        },
        "id": "1aOF9rEFnGTP",
        "outputId": "339f32f9-6300-44ca-afed-61991e3181aa"
      },
      "execution_count": 28,
      "outputs": [
        {
          "output_type": "stream",
          "name": "stdout",
          "text": [
            "['James', 'Robert', 'Lisa', 'Mary']\n",
            "['James', 'Paul', 'Robert', 'Lisa', 'Mary']\n"
          ]
        }
      ]
    },
    {
      "cell_type": "code",
      "source": [
        "# extend()\n",
        "\n",
        "myFriends = ['James', 'Robert', 'Lisa', 'Mary']\n",
        "print(myFriends)\n",
        "myFriends.extend(['Laura', 'Betty'])\n",
        "print(myFriends)"
      ],
      "metadata": {
        "colab": {
          "base_uri": "https://localhost:8080/"
        },
        "id": "HrGCRJqrnGQb",
        "outputId": "fc3489af-2a04-4232-ceff-f97ff15e238a"
      },
      "execution_count": 29,
      "outputs": [
        {
          "output_type": "stream",
          "name": "stdout",
          "text": [
            "['James', 'Robert', 'Lisa', 'Mary']\n",
            "['James', 'Robert', 'Lisa', 'Mary', 'Laura', 'Betty']\n"
          ]
        }
      ]
    },
    {
      "cell_type": "markdown",
      "source": [
        "## 4.4 튜플"
      ],
      "metadata": {
        "id": "2u3s_dxan2eo"
      }
    },
    {
      "cell_type": "markdown",
      "source": [
        "### 4.4.1 튜플 만들기"
      ],
      "metadata": {
        "id": "vxJ_m80Kn9El"
      }
    },
    {
      "cell_type": "code",
      "source": [
        "tuple1 = (1,2,3,4)\n",
        "tuple1"
      ],
      "metadata": {
        "colab": {
          "base_uri": "https://localhost:8080/"
        },
        "id": "K2T2BbgLnGNo",
        "outputId": "721f0588-079f-48b6-9ffb-48ba3352d0da"
      },
      "execution_count": 30,
      "outputs": [
        {
          "output_type": "execute_result",
          "data": {
            "text/plain": [
              "(1, 2, 3, 4)"
            ]
          },
          "metadata": {},
          "execution_count": 30
        }
      ]
    },
    {
      "cell_type": "code",
      "source": [
        "type(tuple1)"
      ],
      "metadata": {
        "colab": {
          "base_uri": "https://localhost:8080/"
        },
        "id": "iI8Wo2sjnGK3",
        "outputId": "f9404fcb-acf9-4a0a-fd93-117855e2fc43"
      },
      "execution_count": 31,
      "outputs": [
        {
          "output_type": "execute_result",
          "data": {
            "text/plain": [
              "tuple"
            ]
          },
          "metadata": {},
          "execution_count": 31
        }
      ]
    },
    {
      "cell_type": "code",
      "source": [
        "tuple1[1]"
      ],
      "metadata": {
        "colab": {
          "base_uri": "https://localhost:8080/"
        },
        "id": "Z7ttVBXMnGIS",
        "outputId": "860cad07-92a9-4deb-adb9-06046bb223db"
      },
      "execution_count": 32,
      "outputs": [
        {
          "output_type": "execute_result",
          "data": {
            "text/plain": [
              "2"
            ]
          },
          "metadata": {},
          "execution_count": 32
        }
      ]
    },
    {
      "cell_type": "code",
      "source": [
        "tuple2 = 5,6,7,8\n",
        "print(tuple2)"
      ],
      "metadata": {
        "colab": {
          "base_uri": "https://localhost:8080/"
        },
        "id": "wdsOIf5UnGFd",
        "outputId": "a9c666f2-51e8-4678-90d4-a70be99c83c6"
      },
      "execution_count": 33,
      "outputs": [
        {
          "output_type": "stream",
          "name": "stdout",
          "text": [
            "(5, 6, 7, 8)\n"
          ]
        }
      ]
    },
    {
      "cell_type": "code",
      "source": [
        "type(tuple2)"
      ],
      "metadata": {
        "colab": {
          "base_uri": "https://localhost:8080/"
        },
        "id": "lET7jZyOnGCr",
        "outputId": "872e599d-835a-4fca-cfbb-1ca54e6fb4a3"
      },
      "execution_count": 34,
      "outputs": [
        {
          "output_type": "execute_result",
          "data": {
            "text/plain": [
              "tuple"
            ]
          },
          "metadata": {},
          "execution_count": 34
        }
      ]
    },
    {
      "cell_type": "code",
      "source": [
        "tuple3 = (9,) # 반드시 쉼표(',') 필요 \n",
        "tuple4 = 10, # 반드시 쉼표(',') 필요 \n",
        "print(tuple3)\n",
        "print(tuple4)"
      ],
      "metadata": {
        "colab": {
          "base_uri": "https://localhost:8080/"
        },
        "id": "COiGVb08nGAI",
        "outputId": "9ce4c415-da4f-4d01-e845-e95f9aa95168"
      },
      "execution_count": 35,
      "outputs": [
        {
          "output_type": "stream",
          "name": "stdout",
          "text": [
            "(9,)\n",
            "(10,)\n"
          ]
        }
      ]
    },
    {
      "cell_type": "markdown",
      "source": [
        "### 4.4.2 튜플 다루기"
      ],
      "metadata": {
        "id": "W2T2Wg5moVx0"
      }
    },
    {
      "cell_type": "code",
      "source": [
        "tuple5 = (1,2,3,4)\n",
        "#tuple5[1] = 5       # 한번 생성된 튜플의 요소는 변경되지 않음"
      ],
      "metadata": {
        "id": "MIraddBJnF9K"
      },
      "execution_count": 75,
      "outputs": []
    },
    {
      "cell_type": "code",
      "source": [
        "#del tuple5[1]       # 한번 생성된 튜플 요소는 삭제되지 않음"
      ],
      "metadata": {
        "id": "gQgaTyZQoZFp"
      },
      "execution_count": 37,
      "outputs": []
    },
    {
      "cell_type": "code",
      "source": [
        "tuple6 = ('a', 'b', 'c', 'd', 'e', 'f')\n",
        "tuple6.index('c')"
      ],
      "metadata": {
        "colab": {
          "base_uri": "https://localhost:8080/"
        },
        "id": "j3A263dfoZCs",
        "outputId": "935aa40c-4937-4150-9d30-8157a7cf0021"
      },
      "execution_count": 38,
      "outputs": [
        {
          "output_type": "execute_result",
          "data": {
            "text/plain": [
              "2"
            ]
          },
          "metadata": {},
          "execution_count": 38
        }
      ]
    },
    {
      "cell_type": "code",
      "source": [
        "tuple7 = ('a', 'a', 'a', 'b', 'b', 'c', 'd')\n",
        "tuple7.count('a')"
      ],
      "metadata": {
        "colab": {
          "base_uri": "https://localhost:8080/"
        },
        "id": "6JEqSJqioY_l",
        "outputId": "e01db9a9-4b94-49ed-f2ba-461e610f9e39"
      },
      "execution_count": 39,
      "outputs": [
        {
          "output_type": "execute_result",
          "data": {
            "text/plain": [
              "3"
            ]
          },
          "metadata": {},
          "execution_count": 39
        }
      ]
    },
    {
      "cell_type": "markdown",
      "source": [
        "## 4.5 세트"
      ],
      "metadata": {
        "id": "7zdPdIPFoqUe"
      }
    },
    {
      "cell_type": "markdown",
      "source": [
        "### 4.5.1 세트 만들기"
      ],
      "metadata": {
        "id": "pWx9xgWzouYJ"
      }
    },
    {
      "cell_type": "code",
      "source": [
        "set1 = {1, 2, 3}\n",
        "set1a = {1, 2, 3, 3}\n",
        "print(set1)\n",
        "print(set1a)"
      ],
      "metadata": {
        "colab": {
          "base_uri": "https://localhost:8080/"
        },
        "id": "pjdsgmRwouAO",
        "outputId": "8ecb9ab1-183e-4c7f-a003-fad06b7d06cb"
      },
      "execution_count": 40,
      "outputs": [
        {
          "output_type": "stream",
          "name": "stdout",
          "text": [
            "{1, 2, 3}\n",
            "{1, 2, 3}\n"
          ]
        }
      ]
    },
    {
      "cell_type": "code",
      "source": [
        "type(set1)"
      ],
      "metadata": {
        "colab": {
          "base_uri": "https://localhost:8080/"
        },
        "id": "Mcr9guLtoY8X",
        "outputId": "79b76a1f-8fdc-4f1d-8aff-42e32e2c0f50"
      },
      "execution_count": 41,
      "outputs": [
        {
          "output_type": "execute_result",
          "data": {
            "text/plain": [
              "set"
            ]
          },
          "metadata": {},
          "execution_count": 41
        }
      ]
    },
    {
      "cell_type": "markdown",
      "source": [
        "### 4.5.2 세트의 교집합, 합집합, 차집합 구하기"
      ],
      "metadata": {
        "id": "Lu3lklujoxMi"
      }
    },
    {
      "cell_type": "code",
      "source": [
        "A = {1, 2, 3, 4, 5}        # Set A\n",
        "B = {4, 5, 6, 7, 8, 9, 10} # Set B\n",
        "A.intersection(B)          # 집합 A에 대한 집합 B의 교집합(A∩B)"
      ],
      "metadata": {
        "colab": {
          "base_uri": "https://localhost:8080/"
        },
        "id": "sWtM_nDLoY5q",
        "outputId": "91cc6d52-b5ec-4163-cc97-1dd9f1628be8"
      },
      "execution_count": 42,
      "outputs": [
        {
          "output_type": "execute_result",
          "data": {
            "text/plain": [
              "{4, 5}"
            ]
          },
          "metadata": {},
          "execution_count": 42
        }
      ]
    },
    {
      "cell_type": "code",
      "source": [
        "A.union(B)      # 집합 A에 대한 집합 B의 합집합(A∪B)"
      ],
      "metadata": {
        "colab": {
          "base_uri": "https://localhost:8080/"
        },
        "id": "aui2-3PFoY3J",
        "outputId": "b8bd0a8a-a0e8-4856-9182-d28f7c2c8f23"
      },
      "execution_count": 43,
      "outputs": [
        {
          "output_type": "execute_result",
          "data": {
            "text/plain": [
              "{1, 2, 3, 4, 5, 6, 7, 8, 9, 10}"
            ]
          },
          "metadata": {},
          "execution_count": 43
        }
      ]
    },
    {
      "cell_type": "code",
      "source": [
        "A.difference(B) # 집합 A에 대한 집합 B의 차집합(A-B)"
      ],
      "metadata": {
        "colab": {
          "base_uri": "https://localhost:8080/"
        },
        "id": "SEN4JD5xoY0Q",
        "outputId": "e4fce48f-33e5-4b20-c726-1d6c3c9b086e"
      },
      "execution_count": 44,
      "outputs": [
        {
          "output_type": "execute_result",
          "data": {
            "text/plain": [
              "{1, 2, 3}"
            ]
          },
          "metadata": {},
          "execution_count": 44
        }
      ]
    },
    {
      "cell_type": "code",
      "source": [
        "A = {1, 2, 3, 4, 5}        # Set A\n",
        "B = {4, 5, 6, 7, 8, 9, 10} # Set B \n",
        "A & B                      # 집합 A에 대한 집합 B의 교집합(A∩B)"
      ],
      "metadata": {
        "colab": {
          "base_uri": "https://localhost:8080/"
        },
        "id": "fEV2SZ0joYxr",
        "outputId": "d534747c-d80f-4d45-e312-f0d744a48a7d"
      },
      "execution_count": 45,
      "outputs": [
        {
          "output_type": "execute_result",
          "data": {
            "text/plain": [
              "{4, 5}"
            ]
          },
          "metadata": {},
          "execution_count": 45
        }
      ]
    },
    {
      "cell_type": "code",
      "source": [
        "A | B    # 집합 A에 대한 집합 B의 합집합(A∪B)"
      ],
      "metadata": {
        "colab": {
          "base_uri": "https://localhost:8080/"
        },
        "id": "Vkinxb1BoYu1",
        "outputId": "08619467-3ab4-47d6-cd05-c2dec431157d"
      },
      "execution_count": 46,
      "outputs": [
        {
          "output_type": "execute_result",
          "data": {
            "text/plain": [
              "{1, 2, 3, 4, 5, 6, 7, 8, 9, 10}"
            ]
          },
          "metadata": {},
          "execution_count": 46
        }
      ]
    },
    {
      "cell_type": "code",
      "source": [
        "A - B    # 집합 A에 대한 집합 B의 차집합(A-B)"
      ],
      "metadata": {
        "colab": {
          "base_uri": "https://localhost:8080/"
        },
        "id": "l85FfqWMoYrn",
        "outputId": "deabcd15-faa7-472c-a566-6e1a5d9de8be"
      },
      "execution_count": 47,
      "outputs": [
        {
          "output_type": "execute_result",
          "data": {
            "text/plain": [
              "{1, 2, 3}"
            ]
          },
          "metadata": {},
          "execution_count": 47
        }
      ]
    },
    {
      "cell_type": "markdown",
      "source": [
        "### 4.5.3 리스트, 튜플, 세트 간 타입 변환"
      ],
      "metadata": {
        "id": "iYNTkscHpQwG"
      }
    },
    {
      "cell_type": "code",
      "source": [
        "a = [1,2,3,4,5]\n",
        "type(a)"
      ],
      "metadata": {
        "colab": {
          "base_uri": "https://localhost:8080/"
        },
        "id": "xWBK_fNboYok",
        "outputId": "acaaef28-754a-4aab-f1fd-d3aee86d2717"
      },
      "execution_count": 48,
      "outputs": [
        {
          "output_type": "execute_result",
          "data": {
            "text/plain": [
              "list"
            ]
          },
          "metadata": {},
          "execution_count": 48
        }
      ]
    },
    {
      "cell_type": "code",
      "source": [
        "b = tuple(a) \n",
        "b"
      ],
      "metadata": {
        "colab": {
          "base_uri": "https://localhost:8080/"
        },
        "id": "4TNjmsQypPRq",
        "outputId": "9c5e7ad2-ffb6-4e70-84cc-5df076ff622b"
      },
      "execution_count": 49,
      "outputs": [
        {
          "output_type": "execute_result",
          "data": {
            "text/plain": [
              "(1, 2, 3, 4, 5)"
            ]
          },
          "metadata": {},
          "execution_count": 49
        }
      ]
    },
    {
      "cell_type": "code",
      "source": [
        "type(b)"
      ],
      "metadata": {
        "colab": {
          "base_uri": "https://localhost:8080/"
        },
        "id": "OpBg454Ppgy5",
        "outputId": "77d6b50e-01f5-4719-999e-1581fa9f00a9"
      },
      "execution_count": 50,
      "outputs": [
        {
          "output_type": "execute_result",
          "data": {
            "text/plain": [
              "tuple"
            ]
          },
          "metadata": {},
          "execution_count": 50
        }
      ]
    },
    {
      "cell_type": "code",
      "source": [
        "c = set(a) \n",
        "c"
      ],
      "metadata": {
        "colab": {
          "base_uri": "https://localhost:8080/"
        },
        "id": "0sIOBe1VpPOp",
        "outputId": "2df8a55a-9116-4d8a-f253-8edab3215efa"
      },
      "execution_count": 51,
      "outputs": [
        {
          "output_type": "execute_result",
          "data": {
            "text/plain": [
              "{1, 2, 3, 4, 5}"
            ]
          },
          "metadata": {},
          "execution_count": 51
        }
      ]
    },
    {
      "cell_type": "code",
      "source": [
        "type(c)"
      ],
      "metadata": {
        "colab": {
          "base_uri": "https://localhost:8080/"
        },
        "id": "O375krRgpPL1",
        "outputId": "ad08d869-34fa-41b4-bd1e-7202e7408005"
      },
      "execution_count": 52,
      "outputs": [
        {
          "output_type": "execute_result",
          "data": {
            "text/plain": [
              "set"
            ]
          },
          "metadata": {},
          "execution_count": 52
        }
      ]
    },
    {
      "cell_type": "code",
      "source": [
        "list(b)"
      ],
      "metadata": {
        "colab": {
          "base_uri": "https://localhost:8080/"
        },
        "id": "ERfny0w9pPI9",
        "outputId": "a582c4cb-f6e8-4d8a-a39a-4fad8846d48e"
      },
      "execution_count": 53,
      "outputs": [
        {
          "output_type": "execute_result",
          "data": {
            "text/plain": [
              "[1, 2, 3, 4, 5]"
            ]
          },
          "metadata": {},
          "execution_count": 53
        }
      ]
    },
    {
      "cell_type": "code",
      "source": [
        "list(c)"
      ],
      "metadata": {
        "colab": {
          "base_uri": "https://localhost:8080/"
        },
        "id": "ywp6h48zpPGY",
        "outputId": "e2766ebc-0bd0-4d9a-f2a5-a93e973bec59"
      },
      "execution_count": 54,
      "outputs": [
        {
          "output_type": "execute_result",
          "data": {
            "text/plain": [
              "[1, 2, 3, 4, 5]"
            ]
          },
          "metadata": {},
          "execution_count": 54
        }
      ]
    },
    {
      "cell_type": "markdown",
      "source": [
        "## 4.6 딕셔너리"
      ],
      "metadata": {
        "id": "cFbuf2oLplGm"
      }
    },
    {
      "cell_type": "markdown",
      "source": [
        "### 4.6.1 딕셔너리 만들기"
      ],
      "metadata": {
        "id": "rS9dNcQhpquD"
      }
    },
    {
      "cell_type": "code",
      "source": [
        "country_capital = {\"영국\":\"런던\", \"프랑스\":\"파리\", \"스위스\": \"베른\", \"호주\":\"멜버른\", \"덴마크\": \"코펜하겐\"}\n",
        "country_capital "
      ],
      "metadata": {
        "colab": {
          "base_uri": "https://localhost:8080/"
        },
        "id": "97wUqggPpqcw",
        "outputId": "f8669242-472f-4af6-ea94-81fdff6562fc"
      },
      "execution_count": 55,
      "outputs": [
        {
          "output_type": "execute_result",
          "data": {
            "text/plain": [
              "{'덴마크': '코펜하겐', '스위스': '베른', '영국': '런던', '프랑스': '파리', '호주': '멜버른'}"
            ]
          },
          "metadata": {},
          "execution_count": 55
        }
      ]
    },
    {
      "cell_type": "code",
      "source": [
        "type(country_capital)"
      ],
      "metadata": {
        "colab": {
          "base_uri": "https://localhost:8080/"
        },
        "id": "NZTImxoxpPDm",
        "outputId": "49d76b51-ffc5-4b22-f72d-028594dc167e"
      },
      "execution_count": 56,
      "outputs": [
        {
          "output_type": "execute_result",
          "data": {
            "text/plain": [
              "dict"
            ]
          },
          "metadata": {},
          "execution_count": 56
        }
      ]
    },
    {
      "cell_type": "code",
      "source": [
        "country_capital[\"영국\"]"
      ],
      "metadata": {
        "colab": {
          "base_uri": "https://localhost:8080/",
          "height": 35
        },
        "id": "vHpZ3Ku2pPA5",
        "outputId": "0de44255-55ac-40f2-9bbe-4b5179737b45"
      },
      "execution_count": 57,
      "outputs": [
        {
          "output_type": "execute_result",
          "data": {
            "application/vnd.google.colaboratory.intrinsic+json": {
              "type": "string"
            },
            "text/plain": [
              "'런던'"
            ]
          },
          "metadata": {},
          "execution_count": 57
        }
      ]
    },
    {
      "cell_type": "code",
      "source": [
        "dict_data1 = {1:\"버스\", 3: \"비행기\", 4:\"택시\", 5: \"자전거\"} \n",
        "dict_data1"
      ],
      "metadata": {
        "colab": {
          "base_uri": "https://localhost:8080/"
        },
        "id": "qfrPbQx2pO-C",
        "outputId": "4c89001e-79a1-48d8-89a8-9c8195dcd8bb"
      },
      "execution_count": 58,
      "outputs": [
        {
          "output_type": "execute_result",
          "data": {
            "text/plain": [
              "{1: '버스', 3: '비행기', 4: '택시', 5: '자전거'}"
            ]
          },
          "metadata": {},
          "execution_count": 58
        }
      ]
    },
    {
      "cell_type": "code",
      "source": [
        "dict_data1[3]"
      ],
      "metadata": {
        "colab": {
          "base_uri": "https://localhost:8080/",
          "height": 35
        },
        "id": "58qX7ZHSpO7N",
        "outputId": "ebd1b20d-6146-49e4-dacd-4c69892717a8"
      },
      "execution_count": 59,
      "outputs": [
        {
          "output_type": "execute_result",
          "data": {
            "application/vnd.google.colaboratory.intrinsic+json": {
              "type": "string"
            },
            "text/plain": [
              "'비행기'"
            ]
          },
          "metadata": {},
          "execution_count": 59
        }
      ]
    },
    {
      "cell_type": "code",
      "source": [
        "dict_data2 = {1:10, 2: 20, 3:30, 4: 40, 5:50}\n",
        "print(dict_data2)\n",
        "print(dict_data2[4])"
      ],
      "metadata": {
        "colab": {
          "base_uri": "https://localhost:8080/"
        },
        "id": "tFVXCzK3plz1",
        "outputId": "aa17bf50-ced9-48ac-ff9f-71ed0e03a6bd"
      },
      "execution_count": 60,
      "outputs": [
        {
          "output_type": "stream",
          "name": "stdout",
          "text": [
            "{1: 10, 2: 20, 3: 30, 4: 40, 5: 50}\n",
            "40\n"
          ]
        }
      ]
    },
    {
      "cell_type": "code",
      "source": [
        "dict_data3 = {\"list_data1\":[11,12,13], \"list_data2\": [21,22,23]}\n",
        "print(dict_data3)\n",
        "print(dict_data3[\"list_data2\"])"
      ],
      "metadata": {
        "colab": {
          "base_uri": "https://localhost:8080/"
        },
        "id": "gMMmT19MplxN",
        "outputId": "b9c49fcc-7bf5-4761-8e1a-4344dfd4c89c"
      },
      "execution_count": 61,
      "outputs": [
        {
          "output_type": "stream",
          "name": "stdout",
          "text": [
            "{'list_data1': [11, 12, 13], 'list_data2': [21, 22, 23]}\n",
            "[21, 22, 23]\n"
          ]
        }
      ]
    },
    {
      "cell_type": "code",
      "source": [
        "mixed_dict = {1:10, 'dict_num': {1:10, 2:20}, \"dict_list_tuple\": {\"A\":[11,12,13], \"B\":(21,22,23)}}"
      ],
      "metadata": {
        "id": "j0Te428fpluX"
      },
      "execution_count": 62,
      "outputs": []
    },
    {
      "cell_type": "code",
      "source": [
        "mixed_dict"
      ],
      "metadata": {
        "colab": {
          "base_uri": "https://localhost:8080/"
        },
        "id": "anec3Jrzplr8",
        "outputId": "e09a147b-469c-4ac3-e04a-c151d7c6fc2b"
      },
      "execution_count": 63,
      "outputs": [
        {
          "output_type": "execute_result",
          "data": {
            "text/plain": [
              "{1: 10,\n",
              " 'dict_list_tuple': {'A': [11, 12, 13], 'B': (21, 22, 23)},\n",
              " 'dict_num': {1: 10, 2: 20}}"
            ]
          },
          "metadata": {},
          "execution_count": 63
        }
      ]
    },
    {
      "cell_type": "markdown",
      "source": [
        "### 4.6.2 딕셔너리 다루기"
      ],
      "metadata": {
        "id": "mJ43odonpt9O"
      }
    },
    {
      "cell_type": "markdown",
      "source": [
        "#### 4.6.2.1 딕셔너리에 데이터 추가하고 변경하기"
      ],
      "metadata": {
        "id": "5qAMoB15qXkx"
      }
    },
    {
      "cell_type": "code",
      "source": [
        "country_capital[\"독일\"]= \"베를린\" \n",
        "country_capital"
      ],
      "metadata": {
        "colab": {
          "base_uri": "https://localhost:8080/"
        },
        "id": "p5jiQvxYqWyO",
        "outputId": "ca14d4fc-545b-43d9-f345-556bd0dba687"
      },
      "execution_count": 64,
      "outputs": [
        {
          "output_type": "execute_result",
          "data": {
            "text/plain": [
              "{'덴마크': '코펜하겐', '독일': '베를린', '스위스': '베른', '영국': '런던', '프랑스': '파리', '호주': '멜버른'}"
            ]
          },
          "metadata": {},
          "execution_count": 64
        }
      ]
    },
    {
      "cell_type": "code",
      "source": [
        "country_capital[\"호주\"]= \"캔버라\" \n",
        "country_capital"
      ],
      "metadata": {
        "colab": {
          "base_uri": "https://localhost:8080/"
        },
        "id": "Jpd65vZDqWum",
        "outputId": "11fe19b4-f002-475a-98b2-4b44b8fd6dd2"
      },
      "execution_count": 65,
      "outputs": [
        {
          "output_type": "execute_result",
          "data": {
            "text/plain": [
              "{'덴마크': '코펜하겐', '독일': '베를린', '스위스': '베른', '영국': '런던', '프랑스': '파리', '호주': '캔버라'}"
            ]
          },
          "metadata": {},
          "execution_count": 65
        }
      ]
    },
    {
      "cell_type": "markdown",
      "source": [
        "#### 4.6.2.2 딕셔너리에서 데이터 삭제하기"
      ],
      "metadata": {
        "id": "7k1QPhY0qmee"
      }
    },
    {
      "cell_type": "code",
      "source": [
        "del country_capital[\"덴마크\"] \n",
        "country_capital"
      ],
      "metadata": {
        "colab": {
          "base_uri": "https://localhost:8080/"
        },
        "id": "q7PdlsqqqWrQ",
        "outputId": "2ba381c6-b754-496d-f412-99d2fdd707e8"
      },
      "execution_count": 66,
      "outputs": [
        {
          "output_type": "execute_result",
          "data": {
            "text/plain": [
              "{'독일': '베를린', '스위스': '베른', '영국': '런던', '프랑스': '파리', '호주': '캔버라'}"
            ]
          },
          "metadata": {},
          "execution_count": 66
        }
      ]
    },
    {
      "cell_type": "markdown",
      "source": [
        "#### 4.6.2.3 딕셔너리 메서드 활용하기"
      ],
      "metadata": {
        "id": "p4H1a2Eaqv-3"
      }
    },
    {
      "cell_type": "code",
      "source": [
        "fruit_code = {\"사과\":101, \"배\":102, \"딸기\":103, \"포도\":104, \"바나나\":105}"
      ],
      "metadata": {
        "id": "pDVkrUZeqWoA"
      },
      "execution_count": 67,
      "outputs": []
    },
    {
      "cell_type": "code",
      "source": [
        "print(fruit_code.keys())\n",
        "print(fruit_code.values())\n",
        "print(fruit_code.items())"
      ],
      "metadata": {
        "colab": {
          "base_uri": "https://localhost:8080/"
        },
        "id": "2CXcNShoqWkR",
        "outputId": "cedca07e-2353-4bb5-b85d-3cd77cf6b9be"
      },
      "execution_count": 68,
      "outputs": [
        {
          "output_type": "stream",
          "name": "stdout",
          "text": [
            "dict_keys(['사과', '배', '딸기', '포도', '바나나'])\n",
            "dict_values([101, 102, 103, 104, 105])\n",
            "dict_items([('사과', 101), ('배', 102), ('딸기', 103), ('포도', 104), ('바나나', 105)])\n"
          ]
        }
      ]
    },
    {
      "cell_type": "code",
      "source": [
        "list(fruit_code.keys())"
      ],
      "metadata": {
        "colab": {
          "base_uri": "https://localhost:8080/"
        },
        "id": "RmCwvEZMqWgy",
        "outputId": "c18ee6bf-1805-42aa-d83c-b09be21fa26a"
      },
      "execution_count": 69,
      "outputs": [
        {
          "output_type": "execute_result",
          "data": {
            "text/plain": [
              "['사과', '배', '딸기', '포도', '바나나']"
            ]
          },
          "metadata": {},
          "execution_count": 69
        }
      ]
    },
    {
      "cell_type": "code",
      "source": [
        "list(fruit_code.values())"
      ],
      "metadata": {
        "colab": {
          "base_uri": "https://localhost:8080/"
        },
        "id": "fCalyXjqqWdD",
        "outputId": "2434a919-6371-4c59-f5d3-64b0cfea28c3"
      },
      "execution_count": 70,
      "outputs": [
        {
          "output_type": "execute_result",
          "data": {
            "text/plain": [
              "[101, 102, 103, 104, 105]"
            ]
          },
          "metadata": {},
          "execution_count": 70
        }
      ]
    },
    {
      "cell_type": "code",
      "source": [
        "list(fruit_code.items())"
      ],
      "metadata": {
        "colab": {
          "base_uri": "https://localhost:8080/"
        },
        "id": "Ts_kfE8uqWZu",
        "outputId": "64ab90f4-f757-4958-bd9d-3db0fa6c6993"
      },
      "execution_count": 71,
      "outputs": [
        {
          "output_type": "execute_result",
          "data": {
            "text/plain": [
              "[('사과', 101), ('배', 102), ('딸기', 103), ('포도', 104), ('바나나', 105)]"
            ]
          },
          "metadata": {},
          "execution_count": 71
        }
      ]
    },
    {
      "cell_type": "code",
      "source": [
        "fruit_code2 = {\"오렌지\":106, \"수박\":107}"
      ],
      "metadata": {
        "id": "7kpnVSDzqWV_"
      },
      "execution_count": 72,
      "outputs": []
    },
    {
      "cell_type": "code",
      "source": [
        "fruit_code.update(fruit_code2)\n",
        "fruit_code"
      ],
      "metadata": {
        "colab": {
          "base_uri": "https://localhost:8080/"
        },
        "id": "-BnyFKMyq-f7",
        "outputId": "dd30b96c-5a09-43d1-e00f-c719e1107440"
      },
      "execution_count": 73,
      "outputs": [
        {
          "output_type": "execute_result",
          "data": {
            "text/plain": [
              "{'딸기': 103, '바나나': 105, '배': 102, '사과': 101, '수박': 107, '오렌지': 106, '포도': 104}"
            ]
          },
          "metadata": {},
          "execution_count": 73
        }
      ]
    },
    {
      "cell_type": "code",
      "source": [
        "fruit_code2.clear()\n",
        "print(fruit_code2)\n",
        "type(fruit_code2)"
      ],
      "metadata": {
        "colab": {
          "base_uri": "https://localhost:8080/"
        },
        "id": "tkb_j4JSq-c-",
        "outputId": "24893bea-907b-4309-b4f0-4f372ca288d1"
      },
      "execution_count": 74,
      "outputs": [
        {
          "output_type": "stream",
          "name": "stdout",
          "text": [
            "{}\n"
          ]
        },
        {
          "output_type": "execute_result",
          "data": {
            "text/plain": [
              "dict"
            ]
          },
          "metadata": {},
          "execution_count": 74
        }
      ]
    }
  ]
}